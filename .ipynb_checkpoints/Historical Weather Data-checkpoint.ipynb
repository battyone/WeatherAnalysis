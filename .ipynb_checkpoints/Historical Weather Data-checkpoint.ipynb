{
 "cells": [
  {
   "cell_type": "markdown",
   "metadata": {},
   "source": [
    "<center><font color='#7a7773'><h1> Historical weather analyses Rotterdam</h1></font></center>"
   ]
  },
  {
   "cell_type": "markdown",
   "metadata": {},
   "source": [
    "<img src='clouds.svg' width=250> "
   ]
  },
  {
   "cell_type": "markdown",
   "metadata": {},
   "source": [
    "<h4> Import the packages that are needed in this project </h4>"
   ]
  },
  {
   "cell_type": "code",
   "execution_count": 119,
   "metadata": {},
   "outputs": [
    {
     "data": {
      "text/html": [
       "<style>.container { width:85% !important; }</style>"
      ],
      "text/plain": [
       "<IPython.core.display.HTML object>"
      ]
     },
     "metadata": {},
     "output_type": "display_data"
    }
   ],
   "source": [
    "from IPython.core.display import display, HTML\n",
    "display(HTML(\"<style>.container { width:85% !important; }</style>\"))"
   ]
  },
  {
   "cell_type": "code",
   "execution_count": 120,
   "metadata": {},
   "outputs": [],
   "source": [
    "import requests\n",
    "import pandas as pd\n",
    "import json\n",
    "import time\n",
    "from datetime import datetime\n",
    "import os\n",
    "import matplotlib.pyplot as plt"
   ]
  },
  {
   "cell_type": "markdown",
   "metadata": {},
   "source": [
    "<h4> vanuit de directory, filter de JSON files, zodat je alleen deze kan importeren </h4>"
   ]
  },
  {
   "cell_type": "code",
   "execution_count": 121,
   "metadata": {},
   "outputs": [],
   "source": [
    "files = list()\n",
    "\n",
    "for file in os.listdir():\n",
    "    if file.endswith('.json'):\n",
    "        files.append(file)\n",
    "                \n",
    "files = sorted(files, key=str.lower)"
   ]
  },
  {
   "cell_type": "code",
   "execution_count": 122,
   "metadata": {},
   "outputs": [],
   "source": [
    "with open(files[0], encoding='utf-8') as f:\n",
    "    citylist = json.load(f)\n",
    "    \n",
    "with open(files[1], encoding='utf-8') as f:\n",
    "    weatherdata = json.load(f)"
   ]
  },
  {
   "cell_type": "code",
   "execution_count": 123,
   "metadata": {},
   "outputs": [
    {
     "name": "stdout",
     "output_type": "stream",
     "text": [
      "lengte weather data = 41273\n",
      "lengte citylyst = 209579\n"
     ]
    }
   ],
   "source": [
    "print('lengte weather data =',len(weatherdata))\n",
    "print('lengte citylyst =',len(citylist))"
   ]
  },
  {
   "cell_type": "markdown",
   "metadata": {},
   "source": [
    "### City list"
   ]
  },
  {
   "cell_type": "code",
   "execution_count": 133,
   "metadata": {
    "scrolled": true
   },
   "outputs": [
    {
     "data": {
      "text/html": [
       "<div>\n",
       "<style scoped>\n",
       "    .dataframe tbody tr th:only-of-type {\n",
       "        vertical-align: middle;\n",
       "    }\n",
       "\n",
       "    .dataframe tbody tr th {\n",
       "        vertical-align: top;\n",
       "    }\n",
       "\n",
       "    .dataframe thead th {\n",
       "        text-align: right;\n",
       "    }\n",
       "</style>\n",
       "<table border=\"1\" class=\"dataframe\">\n",
       "  <thead>\n",
       "    <tr style=\"text-align: right;\">\n",
       "      <th></th>\n",
       "      <th>coord</th>\n",
       "      <th>country</th>\n",
       "      <th>id</th>\n",
       "      <th>name</th>\n",
       "    </tr>\n",
       "  </thead>\n",
       "  <tbody>\n",
       "    <tr>\n",
       "      <th>0</th>\n",
       "      <td>{'lon': 34.283333, 'lat': 44.549999}</td>\n",
       "      <td>UA</td>\n",
       "      <td>707860</td>\n",
       "      <td>Hurzuf</td>\n",
       "    </tr>\n",
       "    <tr>\n",
       "      <th>1</th>\n",
       "      <td>{'lon': 37.666668, 'lat': 55.683334}</td>\n",
       "      <td>RU</td>\n",
       "      <td>519188</td>\n",
       "      <td>Novinki</td>\n",
       "    </tr>\n",
       "    <tr>\n",
       "      <th>2</th>\n",
       "      <td>{'lon': 84.633331, 'lat': 28}</td>\n",
       "      <td>NP</td>\n",
       "      <td>1283378</td>\n",
       "      <td>Gorkhā</td>\n",
       "    </tr>\n",
       "    <tr>\n",
       "      <th>3</th>\n",
       "      <td>{'lon': 76, 'lat': 29}</td>\n",
       "      <td>IN</td>\n",
       "      <td>1270260</td>\n",
       "      <td>State of Haryāna</td>\n",
       "    </tr>\n",
       "    <tr>\n",
       "      <th>4</th>\n",
       "      <td>{'lon': 33.900002, 'lat': 44.599998}</td>\n",
       "      <td>UA</td>\n",
       "      <td>708546</td>\n",
       "      <td>Holubynka</td>\n",
       "    </tr>\n",
       "  </tbody>\n",
       "</table>\n",
       "</div>"
      ],
      "text/plain": [
       "                                  coord country       id              name\n",
       "0  {'lon': 34.283333, 'lat': 44.549999}      UA   707860            Hurzuf\n",
       "1  {'lon': 37.666668, 'lat': 55.683334}      RU   519188           Novinki\n",
       "2         {'lon': 84.633331, 'lat': 28}      NP  1283378            Gorkhā\n",
       "3                {'lon': 76, 'lat': 29}      IN  1270260  State of Haryāna\n",
       "4  {'lon': 33.900002, 'lat': 44.599998}      UA   708546         Holubynka"
      ]
     },
     "execution_count": 133,
     "metadata": {},
     "output_type": "execute_result"
    }
   ],
   "source": [
    "city_df = pd.DataFrame(citylist)\n",
    "city_df.head()"
   ]
  },
  {
   "cell_type": "code",
   "execution_count": 134,
   "metadata": {
    "scrolled": true
   },
   "outputs": [
    {
     "data": {
      "text/html": [
       "<div>\n",
       "<style scoped>\n",
       "    .dataframe tbody tr th:only-of-type {\n",
       "        vertical-align: middle;\n",
       "    }\n",
       "\n",
       "    .dataframe tbody tr th {\n",
       "        vertical-align: top;\n",
       "    }\n",
       "\n",
       "    .dataframe thead th {\n",
       "        text-align: right;\n",
       "    }\n",
       "</style>\n",
       "<table border=\"1\" class=\"dataframe\">\n",
       "  <thead>\n",
       "    <tr style=\"text-align: right;\">\n",
       "      <th></th>\n",
       "      <th>lat</th>\n",
       "      <th>lon</th>\n",
       "    </tr>\n",
       "  </thead>\n",
       "  <tbody>\n",
       "    <tr>\n",
       "      <th>0</th>\n",
       "      <td>44.549999</td>\n",
       "      <td>34.283333</td>\n",
       "    </tr>\n",
       "    <tr>\n",
       "      <th>1</th>\n",
       "      <td>55.683334</td>\n",
       "      <td>37.666668</td>\n",
       "    </tr>\n",
       "    <tr>\n",
       "      <th>2</th>\n",
       "      <td>28.000000</td>\n",
       "      <td>84.633331</td>\n",
       "    </tr>\n",
       "    <tr>\n",
       "      <th>3</th>\n",
       "      <td>29.000000</td>\n",
       "      <td>76.000000</td>\n",
       "    </tr>\n",
       "    <tr>\n",
       "      <th>4</th>\n",
       "      <td>44.599998</td>\n",
       "      <td>33.900002</td>\n",
       "    </tr>\n",
       "  </tbody>\n",
       "</table>\n",
       "</div>"
      ],
      "text/plain": [
       "         lat        lon\n",
       "0  44.549999  34.283333\n",
       "1  55.683334  37.666668\n",
       "2  28.000000  84.633331\n",
       "3  29.000000  76.000000\n",
       "4  44.599998  33.900002"
      ]
     },
     "execution_count": 134,
     "metadata": {},
     "output_type": "execute_result"
    }
   ],
   "source": [
    "# transponeren van de array die in de kolom coord staat\n",
    "transpose_coord = pd.DataFrame(city_df.coord.tolist()) \n",
    "transpose_coord.head()"
   ]
  },
  {
   "cell_type": "code",
   "execution_count": 135,
   "metadata": {},
   "outputs": [
    {
     "data": {
      "text/html": [
       "<div>\n",
       "<style scoped>\n",
       "    .dataframe tbody tr th:only-of-type {\n",
       "        vertical-align: middle;\n",
       "    }\n",
       "\n",
       "    .dataframe tbody tr th {\n",
       "        vertical-align: top;\n",
       "    }\n",
       "\n",
       "    .dataframe thead th {\n",
       "        text-align: right;\n",
       "    }\n",
       "</style>\n",
       "<table border=\"1\" class=\"dataframe\">\n",
       "  <thead>\n",
       "    <tr style=\"text-align: right;\">\n",
       "      <th></th>\n",
       "      <th>lat</th>\n",
       "      <th>lon</th>\n",
       "      <th>country</th>\n",
       "      <th>id</th>\n",
       "      <th>name</th>\n",
       "    </tr>\n",
       "  </thead>\n",
       "  <tbody>\n",
       "    <tr>\n",
       "      <th>0</th>\n",
       "      <td>44.549999</td>\n",
       "      <td>34.283333</td>\n",
       "      <td>UA</td>\n",
       "      <td>707860</td>\n",
       "      <td>Hurzuf</td>\n",
       "    </tr>\n",
       "    <tr>\n",
       "      <th>1</th>\n",
       "      <td>55.683334</td>\n",
       "      <td>37.666668</td>\n",
       "      <td>RU</td>\n",
       "      <td>519188</td>\n",
       "      <td>Novinki</td>\n",
       "    </tr>\n",
       "    <tr>\n",
       "      <th>2</th>\n",
       "      <td>28.000000</td>\n",
       "      <td>84.633331</td>\n",
       "      <td>NP</td>\n",
       "      <td>1283378</td>\n",
       "      <td>Gorkhā</td>\n",
       "    </tr>\n",
       "    <tr>\n",
       "      <th>3</th>\n",
       "      <td>29.000000</td>\n",
       "      <td>76.000000</td>\n",
       "      <td>IN</td>\n",
       "      <td>1270260</td>\n",
       "      <td>State of Haryāna</td>\n",
       "    </tr>\n",
       "    <tr>\n",
       "      <th>4</th>\n",
       "      <td>44.599998</td>\n",
       "      <td>33.900002</td>\n",
       "      <td>UA</td>\n",
       "      <td>708546</td>\n",
       "      <td>Holubynka</td>\n",
       "    </tr>\n",
       "  </tbody>\n",
       "</table>\n",
       "</div>"
      ],
      "text/plain": [
       "         lat        lon country       id              name\n",
       "0  44.549999  34.283333      UA   707860            Hurzuf\n",
       "1  55.683334  37.666668      RU   519188           Novinki\n",
       "2  28.000000  84.633331      NP  1283378            Gorkhā\n",
       "3  29.000000  76.000000      IN  1270260  State of Haryāna\n",
       "4  44.599998  33.900002      UA   708546         Holubynka"
      ]
     },
     "execution_count": 135,
     "metadata": {},
     "output_type": "execute_result"
    }
   ],
   "source": [
    "city_df = pd.concat([transpose_coord,city_df], axis = 1) # plak deze lijst terug aan de oorsp. dataframe\n",
    "city_df.drop(['coord'] ,axis =1, inplace = True) # verwijder de oude kolom\n",
    "city_df.head()"
   ]
  },
  {
   "cell_type": "code",
   "execution_count": 8,
   "metadata": {
    "scrolled": true
   },
   "outputs": [
    {
     "name": "stdout",
     "output_type": "stream",
     "text": [
      "{'id': 2747891, 'name': 'Rotterdam', 'country': 'NL', 'coord': {'lon': 4.47917, 'lat': 51.922501}}\n",
      "2747891 Rotterdam\n"
     ]
    }
   ],
   "source": [
    "for i in citylist:\n",
    "    if i['name'] == 'Rotterdam' and i['country'] == 'NL':\n",
    "        print(i)\n",
    "        print(i['id'], i['name'])\n",
    "        cityname = i['name']\n",
    "        cityid = i['id']"
   ]
  },
  {
   "cell_type": "markdown",
   "metadata": {},
   "source": [
    "### Weatherdata"
   ]
  },
  {
   "cell_type": "code",
   "execution_count": 137,
   "metadata": {},
   "outputs": [
    {
     "data": {
      "text/plain": [
       "{'city_id': 2747891,\n",
       " 'main': {'temp': 288.45,\n",
       "  'temp_min': 287.15,\n",
       "  'temp_max': 289.82,\n",
       "  'pressure': 1020,\n",
       "  'humidity': 91},\n",
       " 'wind': {'speed': 2, 'deg': 208},\n",
       " 'clouds': {'all': 0},\n",
       " 'weather': [{'id': 701,\n",
       "   'main': 'Mist',\n",
       "   'description': 'mist',\n",
       "   'icon': '50n'}],\n",
       " 'dt': 1377907200,\n",
       " 'dt_iso': '2013-08-31 00:00:00 +0000 UTC'}"
      ]
     },
     "execution_count": 137,
     "metadata": {},
     "output_type": "execute_result"
    }
   ],
   "source": [
    "weatherdata[0]"
   ]
  },
  {
   "cell_type": "code",
   "execution_count": 77,
   "metadata": {},
   "outputs": [],
   "source": [
    "city_id = list()\n",
    "temp = list()\n",
    "temp_min = list()\n",
    "temp_max = list()\n",
    "pressure = list()\n",
    "humidity = list()\n",
    "wind_speed = list()\n",
    "wind_deg = list()\n",
    "weather_id = list()\n",
    "weather_main = list()\n",
    "weather_descr = list()\n",
    "date = list()\n",
    "date_unix = list()\n",
    "\n",
    "\n",
    "for entry in weatherdata:\n",
    "    city_id.append(entry['city_id'])\n",
    "    temp.append(entry['main']['temp'])\n",
    "    temp_min.append(entry['main']['temp_min'])\n",
    "    temp_max.append(entry['main']['temp_max'])\n",
    "    pressure.append(entry['main']['pressure'])\n",
    "    humidity.append(entry['main']['humidity'])\n",
    "    wind_speed.append(entry['wind']['speed'])\n",
    "    wind_deg.append(entry['wind']['deg'])\n",
    "    weather_id.append(entry['weather'][0]['id'])\n",
    "    weather_main.append(entry['weather'][0]['main'])\n",
    "    weather_descr.append(entry['weather'][0]['description'])\n",
    "    date.append(entry['dt_iso'])\n",
    "    date_unix.append(entry['dt'])"
   ]
  },
  {
   "cell_type": "markdown",
   "metadata": {},
   "source": [
    "hier maak ik een tabel van mijn JSON bestand"
   ]
  },
  {
   "cell_type": "code",
   "execution_count": 78,
   "metadata": {},
   "outputs": [],
   "source": [
    "weatherdata_df = pd.DataFrame()\n",
    "\n",
    "weatherdata_df['city_id'] = city_id\n",
    "weatherdata_df['temperature_celsius'] = temp\n",
    "weatherdata_df['temperature_min_celsius'] = temp_min\n",
    "weatherdata_df['temperature_max_celsius'] = temp_max\n",
    "weatherdata_df['pressure_hpa'] = pressure\n",
    "weatherdata_df['humidity_%'] = humidity\n",
    "weatherdata_df['wind_speed_m/s'] = wind_speed\n",
    "weatherdata_df['wind_degrees'] = wind_deg\n",
    "weatherdata_df['weather_id'] = weather_id\n",
    "weatherdata_df['weather_main'] = weather_main\n",
    "weatherdata_df['weather_descr'] = weather_descr\n",
    "weatherdata_df['date_UTC'] = date\n",
    "weatherdata_df['date_unix'] = date_unix\n"
   ]
  },
  {
   "cell_type": "code",
   "execution_count": null,
   "metadata": {},
   "outputs": [],
   "source": []
  },
  {
   "cell_type": "code",
   "execution_count": 79,
   "metadata": {
    "scrolled": false
   },
   "outputs": [
    {
     "data": {
      "text/html": [
       "<div>\n",
       "<style scoped>\n",
       "    .dataframe tbody tr th:only-of-type {\n",
       "        vertical-align: middle;\n",
       "    }\n",
       "\n",
       "    .dataframe tbody tr th {\n",
       "        vertical-align: top;\n",
       "    }\n",
       "\n",
       "    .dataframe thead th {\n",
       "        text-align: right;\n",
       "    }\n",
       "</style>\n",
       "<table border=\"1\" class=\"dataframe\">\n",
       "  <thead>\n",
       "    <tr style=\"text-align: right;\">\n",
       "      <th></th>\n",
       "      <th>city_id</th>\n",
       "      <th>temperature_celsius</th>\n",
       "      <th>temperature_min_celsius</th>\n",
       "      <th>temperature_max_celsius</th>\n",
       "      <th>pressure_hpa</th>\n",
       "      <th>humidity_%</th>\n",
       "      <th>wind_speed_m/s</th>\n",
       "      <th>wind_degrees</th>\n",
       "      <th>weather_id</th>\n",
       "      <th>weather_main</th>\n",
       "      <th>weather_descr</th>\n",
       "      <th>date_UTC</th>\n",
       "      <th>date_unix</th>\n",
       "    </tr>\n",
       "  </thead>\n",
       "  <tbody>\n",
       "    <tr>\n",
       "      <th>0</th>\n",
       "      <td>2747891</td>\n",
       "      <td>288.45</td>\n",
       "      <td>287.15</td>\n",
       "      <td>289.82</td>\n",
       "      <td>1020</td>\n",
       "      <td>91</td>\n",
       "      <td>2</td>\n",
       "      <td>208</td>\n",
       "      <td>701</td>\n",
       "      <td>Mist</td>\n",
       "      <td>mist</td>\n",
       "      <td>2013-08-31 00:00:00 +0000 UTC</td>\n",
       "      <td>1377907200</td>\n",
       "    </tr>\n",
       "    <tr>\n",
       "      <th>1</th>\n",
       "      <td>2747891</td>\n",
       "      <td>288.69</td>\n",
       "      <td>288.15</td>\n",
       "      <td>289.26</td>\n",
       "      <td>1020</td>\n",
       "      <td>93</td>\n",
       "      <td>2</td>\n",
       "      <td>208</td>\n",
       "      <td>701</td>\n",
       "      <td>Mist</td>\n",
       "      <td>mist</td>\n",
       "      <td>2013-08-31 01:00:00 +0000 UTC</td>\n",
       "      <td>1377910800</td>\n",
       "    </tr>\n",
       "    <tr>\n",
       "      <th>2</th>\n",
       "      <td>2747891</td>\n",
       "      <td>289.45</td>\n",
       "      <td>288.71</td>\n",
       "      <td>290.15</td>\n",
       "      <td>1019</td>\n",
       "      <td>95</td>\n",
       "      <td>3</td>\n",
       "      <td>218</td>\n",
       "      <td>800</td>\n",
       "      <td>Clear</td>\n",
       "      <td>Sky is Clear</td>\n",
       "      <td>2013-08-31 02:00:00 +0000 UTC</td>\n",
       "      <td>1377914400</td>\n",
       "    </tr>\n",
       "    <tr>\n",
       "      <th>3</th>\n",
       "      <td>2747891</td>\n",
       "      <td>288.42</td>\n",
       "      <td>288.15</td>\n",
       "      <td>288.71</td>\n",
       "      <td>1019</td>\n",
       "      <td>99</td>\n",
       "      <td>3</td>\n",
       "      <td>218</td>\n",
       "      <td>701</td>\n",
       "      <td>Mist</td>\n",
       "      <td>mist</td>\n",
       "      <td>2013-08-31 03:00:00 +0000 UTC</td>\n",
       "      <td>1377918000</td>\n",
       "    </tr>\n",
       "    <tr>\n",
       "      <th>4</th>\n",
       "      <td>2747891</td>\n",
       "      <td>287.88</td>\n",
       "      <td>287.59</td>\n",
       "      <td>288.15</td>\n",
       "      <td>1019</td>\n",
       "      <td>99</td>\n",
       "      <td>3</td>\n",
       "      <td>218</td>\n",
       "      <td>701</td>\n",
       "      <td>Mist</td>\n",
       "      <td>mist</td>\n",
       "      <td>2013-08-31 04:00:00 +0000 UTC</td>\n",
       "      <td>1377921600</td>\n",
       "    </tr>\n",
       "  </tbody>\n",
       "</table>\n",
       "</div>"
      ],
      "text/plain": [
       "   city_id  temperature_celsius  temperature_min_celsius  \\\n",
       "0  2747891               288.45                   287.15   \n",
       "1  2747891               288.69                   288.15   \n",
       "2  2747891               289.45                   288.71   \n",
       "3  2747891               288.42                   288.15   \n",
       "4  2747891               287.88                   287.59   \n",
       "\n",
       "   temperature_max_celsius  pressure_hpa  humidity_%  wind_speed_m/s  \\\n",
       "0                   289.82          1020          91               2   \n",
       "1                   289.26          1020          93               2   \n",
       "2                   290.15          1019          95               3   \n",
       "3                   288.71          1019          99               3   \n",
       "4                   288.15          1019          99               3   \n",
       "\n",
       "   wind_degrees  weather_id weather_main weather_descr  \\\n",
       "0           208         701         Mist          mist   \n",
       "1           208         701         Mist          mist   \n",
       "2           218         800        Clear  Sky is Clear   \n",
       "3           218         701         Mist          mist   \n",
       "4           218         701         Mist          mist   \n",
       "\n",
       "                        date_UTC   date_unix  \n",
       "0  2013-08-31 00:00:00 +0000 UTC  1377907200  \n",
       "1  2013-08-31 01:00:00 +0000 UTC  1377910800  \n",
       "2  2013-08-31 02:00:00 +0000 UTC  1377914400  \n",
       "3  2013-08-31 03:00:00 +0000 UTC  1377918000  \n",
       "4  2013-08-31 04:00:00 +0000 UTC  1377921600  "
      ]
     },
     "execution_count": 79,
     "metadata": {},
     "output_type": "execute_result"
    }
   ],
   "source": [
    "weatherdata_df.head()"
   ]
  },
  {
   "cell_type": "code",
   "execution_count": null,
   "metadata": {},
   "outputs": [],
   "source": []
  },
  {
   "cell_type": "code",
   "execution_count": 56,
   "metadata": {
    "scrolled": true
   },
   "outputs": [
    {
     "data": {
      "text/plain": [
       "0    288.45\n",
       "1    288.69\n",
       "2    289.45\n",
       "3    288.42\n",
       "4    287.88\n",
       "Name: temperature_celsius, dtype: float64"
      ]
     },
     "execution_count": 56,
     "metadata": {},
     "output_type": "execute_result"
    }
   ],
   "source": [
    "weatherdata_df.temperature_celsius.head()"
   ]
  },
  {
   "cell_type": "code",
   "execution_count": null,
   "metadata": {},
   "outputs": [],
   "source": []
  },
  {
   "cell_type": "code",
   "execution_count": 59,
   "metadata": {},
   "outputs": [],
   "source": [
    "weatherdata_df.temperature_celsius = weatherdata_df.temperature_celsius - 273.15"
   ]
  },
  {
   "cell_type": "code",
   "execution_count": 13,
   "metadata": {},
   "outputs": [],
   "source": [
    "def kelv_to_cels(df, column):\n",
    "    df[column] = df[column] - 273.15    "
   ]
  },
  {
   "cell_type": "code",
   "execution_count": 14,
   "metadata": {},
   "outputs": [],
   "source": [
    "kelv_to_cels(weatherdata_df, 'temperature_celsius')\n",
    "kelv_to_cels(weatherdata_df, 'temperature_min_celsius')\n",
    "kelv_to_cels(weatherdata_df, 'temperature_max_celsius')"
   ]
  },
  {
   "cell_type": "code",
   "execution_count": null,
   "metadata": {},
   "outputs": [],
   "source": []
  },
  {
   "cell_type": "code",
   "execution_count": 15,
   "metadata": {
    "scrolled": true
   },
   "outputs": [
    {
     "data": {
      "text/plain": [
       "temperature_celsius        float64\n",
       "temperature_min_celsius    float64\n",
       "temperature_max_celsius    float64\n",
       "pressure_hpa                 int64\n",
       "humidity_%                   int64\n",
       "wind_speed_m/s               int64\n",
       "wind_degrees                 int64\n",
       "weather_id                   int64\n",
       "weather_main                object\n",
       "weather_descr               object\n",
       "date_UTC                    object\n",
       "date_unix                    int64\n",
       "dtype: object"
      ]
     },
     "execution_count": 15,
     "metadata": {},
     "output_type": "execute_result"
    }
   ],
   "source": [
    "weatherdata_df.dtypes"
   ]
  },
  {
   "cell_type": "code",
   "execution_count": 16,
   "metadata": {},
   "outputs": [],
   "source": [
    "weatherdata_df['date_unix'] = pd.to_datetime(weatherdata_df['date_unix'], unit='s')\n",
    "weatherdata_df['date_UTC'] = weatherdata_df['date_UTC'].map(lambda x: x.replace('UTC', ''))\n",
    "weatherdata_df['date_UTC'] = weatherdata_df['date_UTC'].map(lambda x: x.replace('+', ''))\n",
    "weatherdata_df['date_UTC'] = weatherdata_df['date_UTC'].map(lambda x: x[:-5])"
   ]
  },
  {
   "cell_type": "code",
   "execution_count": 17,
   "metadata": {
    "scrolled": true
   },
   "outputs": [],
   "source": [
    "weatherdata_df['date_UTC'] = pd.to_datetime(weatherdata_df['date_UTC'], format='%Y-%m-%d %H:%M:%S')"
   ]
  },
  {
   "cell_type": "code",
   "execution_count": 18,
   "metadata": {},
   "outputs": [
    {
     "data": {
      "text/html": [
       "<div>\n",
       "<style scoped>\n",
       "    .dataframe tbody tr th:only-of-type {\n",
       "        vertical-align: middle;\n",
       "    }\n",
       "\n",
       "    .dataframe tbody tr th {\n",
       "        vertical-align: top;\n",
       "    }\n",
       "\n",
       "    .dataframe thead th {\n",
       "        text-align: right;\n",
       "    }\n",
       "</style>\n",
       "<table border=\"1\" class=\"dataframe\">\n",
       "  <thead>\n",
       "    <tr style=\"text-align: right;\">\n",
       "      <th></th>\n",
       "      <th>temperature_celsius</th>\n",
       "      <th>temperature_min_celsius</th>\n",
       "      <th>temperature_max_celsius</th>\n",
       "      <th>pressure_hpa</th>\n",
       "      <th>humidity_%</th>\n",
       "      <th>wind_speed_m/s</th>\n",
       "      <th>wind_degrees</th>\n",
       "      <th>weather_id</th>\n",
       "      <th>weather_main</th>\n",
       "      <th>weather_descr</th>\n",
       "      <th>date_UTC</th>\n",
       "      <th>date_unix</th>\n",
       "    </tr>\n",
       "  </thead>\n",
       "  <tbody>\n",
       "    <tr>\n",
       "      <th>0</th>\n",
       "      <td>15.30</td>\n",
       "      <td>14.00</td>\n",
       "      <td>16.67</td>\n",
       "      <td>1020</td>\n",
       "      <td>91</td>\n",
       "      <td>2</td>\n",
       "      <td>208</td>\n",
       "      <td>701</td>\n",
       "      <td>Mist</td>\n",
       "      <td>mist</td>\n",
       "      <td>2013-08-31 00:00:00</td>\n",
       "      <td>2013-08-31 00:00:00</td>\n",
       "    </tr>\n",
       "    <tr>\n",
       "      <th>1</th>\n",
       "      <td>15.54</td>\n",
       "      <td>15.00</td>\n",
       "      <td>16.11</td>\n",
       "      <td>1020</td>\n",
       "      <td>93</td>\n",
       "      <td>2</td>\n",
       "      <td>208</td>\n",
       "      <td>701</td>\n",
       "      <td>Mist</td>\n",
       "      <td>mist</td>\n",
       "      <td>2013-08-31 01:00:00</td>\n",
       "      <td>2013-08-31 01:00:00</td>\n",
       "    </tr>\n",
       "    <tr>\n",
       "      <th>2</th>\n",
       "      <td>16.30</td>\n",
       "      <td>15.56</td>\n",
       "      <td>17.00</td>\n",
       "      <td>1019</td>\n",
       "      <td>95</td>\n",
       "      <td>3</td>\n",
       "      <td>218</td>\n",
       "      <td>800</td>\n",
       "      <td>Clear</td>\n",
       "      <td>Sky is Clear</td>\n",
       "      <td>2013-08-31 02:00:00</td>\n",
       "      <td>2013-08-31 02:00:00</td>\n",
       "    </tr>\n",
       "    <tr>\n",
       "      <th>3</th>\n",
       "      <td>15.27</td>\n",
       "      <td>15.00</td>\n",
       "      <td>15.56</td>\n",
       "      <td>1019</td>\n",
       "      <td>99</td>\n",
       "      <td>3</td>\n",
       "      <td>218</td>\n",
       "      <td>701</td>\n",
       "      <td>Mist</td>\n",
       "      <td>mist</td>\n",
       "      <td>2013-08-31 03:00:00</td>\n",
       "      <td>2013-08-31 03:00:00</td>\n",
       "    </tr>\n",
       "    <tr>\n",
       "      <th>4</th>\n",
       "      <td>14.73</td>\n",
       "      <td>14.44</td>\n",
       "      <td>15.00</td>\n",
       "      <td>1019</td>\n",
       "      <td>99</td>\n",
       "      <td>3</td>\n",
       "      <td>218</td>\n",
       "      <td>701</td>\n",
       "      <td>Mist</td>\n",
       "      <td>mist</td>\n",
       "      <td>2013-08-31 04:00:00</td>\n",
       "      <td>2013-08-31 04:00:00</td>\n",
       "    </tr>\n",
       "  </tbody>\n",
       "</table>\n",
       "</div>"
      ],
      "text/plain": [
       "   temperature_celsius  temperature_min_celsius  temperature_max_celsius  \\\n",
       "0                15.30                    14.00                    16.67   \n",
       "1                15.54                    15.00                    16.11   \n",
       "2                16.30                    15.56                    17.00   \n",
       "3                15.27                    15.00                    15.56   \n",
       "4                14.73                    14.44                    15.00   \n",
       "\n",
       "   pressure_hpa  humidity_%  wind_speed_m/s  wind_degrees  weather_id  \\\n",
       "0          1020          91               2           208         701   \n",
       "1          1020          93               2           208         701   \n",
       "2          1019          95               3           218         800   \n",
       "3          1019          99               3           218         701   \n",
       "4          1019          99               3           218         701   \n",
       "\n",
       "  weather_main weather_descr            date_UTC           date_unix  \n",
       "0         Mist          mist 2013-08-31 00:00:00 2013-08-31 00:00:00  \n",
       "1         Mist          mist 2013-08-31 01:00:00 2013-08-31 01:00:00  \n",
       "2        Clear  Sky is Clear 2013-08-31 02:00:00 2013-08-31 02:00:00  \n",
       "3         Mist          mist 2013-08-31 03:00:00 2013-08-31 03:00:00  \n",
       "4         Mist          mist 2013-08-31 04:00:00 2013-08-31 04:00:00  "
      ]
     },
     "execution_count": 18,
     "metadata": {},
     "output_type": "execute_result"
    }
   ],
   "source": [
    "weatherdata_df.head()"
   ]
  },
  {
   "cell_type": "code",
   "execution_count": 19,
   "metadata": {},
   "outputs": [
    {
     "data": {
      "text/plain": [
       "temperature_celsius               float64\n",
       "temperature_min_celsius           float64\n",
       "temperature_max_celsius           float64\n",
       "pressure_hpa                        int64\n",
       "humidity_%                          int64\n",
       "wind_speed_m/s                      int64\n",
       "wind_degrees                        int64\n",
       "weather_id                          int64\n",
       "weather_main                       object\n",
       "weather_descr                      object\n",
       "date_UTC                   datetime64[ns]\n",
       "date_unix                  datetime64[ns]\n",
       "dtype: object"
      ]
     },
     "execution_count": 19,
     "metadata": {},
     "output_type": "execute_result"
    }
   ],
   "source": [
    "weatherdata_df.dtypes"
   ]
  },
  {
   "cell_type": "code",
   "execution_count": 20,
   "metadata": {
    "scrolled": false
   },
   "outputs": [
    {
     "data": {
      "text/html": [
       "<div>\n",
       "<style scoped>\n",
       "    .dataframe tbody tr th:only-of-type {\n",
       "        vertical-align: middle;\n",
       "    }\n",
       "\n",
       "    .dataframe tbody tr th {\n",
       "        vertical-align: top;\n",
       "    }\n",
       "\n",
       "    .dataframe thead th {\n",
       "        text-align: right;\n",
       "    }\n",
       "</style>\n",
       "<table border=\"1\" class=\"dataframe\">\n",
       "  <thead>\n",
       "    <tr style=\"text-align: right;\">\n",
       "      <th></th>\n",
       "      <th>temperature_celsius</th>\n",
       "      <th>temperature_min_celsius</th>\n",
       "      <th>temperature_max_celsius</th>\n",
       "      <th>pressure_hpa</th>\n",
       "      <th>humidity_%</th>\n",
       "      <th>wind_speed_m/s</th>\n",
       "      <th>wind_degrees</th>\n",
       "      <th>weather_id</th>\n",
       "    </tr>\n",
       "  </thead>\n",
       "  <tbody>\n",
       "    <tr>\n",
       "      <th>count</th>\n",
       "      <td>41273.00</td>\n",
       "      <td>41273.00</td>\n",
       "      <td>41273.00</td>\n",
       "      <td>41273.00</td>\n",
       "      <td>41273.00</td>\n",
       "      <td>41273.00</td>\n",
       "      <td>41273.00</td>\n",
       "      <td>41273.00</td>\n",
       "    </tr>\n",
       "    <tr>\n",
       "      <th>mean</th>\n",
       "      <td>11.97</td>\n",
       "      <td>10.65</td>\n",
       "      <td>13.44</td>\n",
       "      <td>1015.71</td>\n",
       "      <td>81.41</td>\n",
       "      <td>3.94</td>\n",
       "      <td>189.44</td>\n",
       "      <td>691.84</td>\n",
       "    </tr>\n",
       "    <tr>\n",
       "      <th>std</th>\n",
       "      <td>6.48</td>\n",
       "      <td>6.19</td>\n",
       "      <td>6.96</td>\n",
       "      <td>10.45</td>\n",
       "      <td>15.63</td>\n",
       "      <td>2.55</td>\n",
       "      <td>96.78</td>\n",
       "      <td>150.33</td>\n",
       "    </tr>\n",
       "    <tr>\n",
       "      <th>min</th>\n",
       "      <td>-7.39</td>\n",
       "      <td>-10.00</td>\n",
       "      <td>-7.00</td>\n",
       "      <td>968.00</td>\n",
       "      <td>0.00</td>\n",
       "      <td>0.00</td>\n",
       "      <td>0.00</td>\n",
       "      <td>200.00</td>\n",
       "    </tr>\n",
       "    <tr>\n",
       "      <th>25%</th>\n",
       "      <td>7.00</td>\n",
       "      <td>6.00</td>\n",
       "      <td>8.00</td>\n",
       "      <td>1010.00</td>\n",
       "      <td>72.00</td>\n",
       "      <td>2.00</td>\n",
       "      <td>110.00</td>\n",
       "      <td>521.00</td>\n",
       "    </tr>\n",
       "    <tr>\n",
       "      <th>50%</th>\n",
       "      <td>12.21</td>\n",
       "      <td>11.00</td>\n",
       "      <td>13.36</td>\n",
       "      <td>1016.00</td>\n",
       "      <td>86.00</td>\n",
       "      <td>4.00</td>\n",
       "      <td>203.00</td>\n",
       "      <td>800.00</td>\n",
       "    </tr>\n",
       "    <tr>\n",
       "      <th>75%</th>\n",
       "      <td>16.61</td>\n",
       "      <td>15.00</td>\n",
       "      <td>18.33</td>\n",
       "      <td>1022.00</td>\n",
       "      <td>93.00</td>\n",
       "      <td>5.00</td>\n",
       "      <td>260.00</td>\n",
       "      <td>802.00</td>\n",
       "    </tr>\n",
       "    <tr>\n",
       "      <th>max</th>\n",
       "      <td>34.58</td>\n",
       "      <td>33.33</td>\n",
       "      <td>38.33</td>\n",
       "      <td>1052.00</td>\n",
       "      <td>100.00</td>\n",
       "      <td>57.00</td>\n",
       "      <td>360.00</td>\n",
       "      <td>804.00</td>\n",
       "    </tr>\n",
       "  </tbody>\n",
       "</table>\n",
       "</div>"
      ],
      "text/plain": [
       "       temperature_celsius  temperature_min_celsius  temperature_max_celsius  \\\n",
       "count             41273.00                 41273.00                 41273.00   \n",
       "mean                 11.97                    10.65                    13.44   \n",
       "std                   6.48                     6.19                     6.96   \n",
       "min                  -7.39                   -10.00                    -7.00   \n",
       "25%                   7.00                     6.00                     8.00   \n",
       "50%                  12.21                    11.00                    13.36   \n",
       "75%                  16.61                    15.00                    18.33   \n",
       "max                  34.58                    33.33                    38.33   \n",
       "\n",
       "       pressure_hpa  humidity_%  wind_speed_m/s  wind_degrees  weather_id  \n",
       "count      41273.00    41273.00        41273.00      41273.00    41273.00  \n",
       "mean        1015.71       81.41            3.94        189.44      691.84  \n",
       "std           10.45       15.63            2.55         96.78      150.33  \n",
       "min          968.00        0.00            0.00          0.00      200.00  \n",
       "25%         1010.00       72.00            2.00        110.00      521.00  \n",
       "50%         1016.00       86.00            4.00        203.00      800.00  \n",
       "75%         1022.00       93.00            5.00        260.00      802.00  \n",
       "max         1052.00      100.00           57.00        360.00      804.00  "
      ]
     },
     "execution_count": 20,
     "metadata": {},
     "output_type": "execute_result"
    }
   ],
   "source": [
    "df_described = round(weatherdata_df.describe(), 2)\n",
    "df_described"
   ]
  },
  {
   "cell_type": "code",
   "execution_count": 21,
   "metadata": {},
   "outputs": [],
   "source": [
    "two_fourteen = weatherdata_df[weatherdata_df['date_UTC'].dt.year == 2014]\n",
    "two_fifteen  = weatherdata_df[weatherdata_df['date_UTC'].dt.year == 2015]\n",
    "two_sixteen  = weatherdata_df[weatherdata_df['date_UTC'].dt.year == 2016]\n",
    "two_seventeen  = weatherdata_df[weatherdata_df['date_UTC'].dt.year == 2017]\n",
    "two_eighteen  = weatherdata_df[weatherdata_df['date_UTC'].dt.year == 2018]"
   ]
  },
  {
   "cell_type": "code",
   "execution_count": 22,
   "metadata": {},
   "outputs": [
    {
     "data": {
      "image/png": "[encoded data removed]",
      "text/plain": [
       "<Figure size 432x288 with 1 Axes>"
      ]
     },
     "metadata": {},
     "output_type": "display_data"
    }
   ],
   "source": [
    "plt.plot(two_fourteen['date_UTC'], two_fourteen['temperature_celsius'])\n",
    "plt.show()"
   ]
  },
  {
   "cell_type": "code",
   "execution_count": 23,
   "metadata": {},
   "outputs": [
    {
     "data": {
      "image/png": "[encoded data removed]",
      "text/plain": [
       "<Figure size 432x288 with 1 Axes>"
      ]
     },
     "metadata": {},
     "output_type": "display_data"
    }
   ],
   "source": [
    "plt.plot(two_fifteen['date_UTC'], two_fifteen['temperature_celsius'])\n",
    "plt.show()"
   ]
  },
  {
   "cell_type": "code",
   "execution_count": null,
   "metadata": {},
   "outputs": [],
   "source": []
  },
  {
   "cell_type": "code",
   "execution_count": null,
   "metadata": {},
   "outputs": [],
   "source": []
  },
  {
   "cell_type": "code",
   "execution_count": null,
   "metadata": {},
   "outputs": [],
   "source": []
  },
  {
   "cell_type": "code",
   "execution_count": null,
   "metadata": {},
   "outputs": [],
   "source": []
  },
  {
   "cell_type": "code",
   "execution_count": null,
   "metadata": {},
   "outputs": [],
   "source": []
  },
  {
   "cell_type": "code",
   "execution_count": 66,
   "metadata": {},
   "outputs": [],
   "source": [
    "apikey = 'db071ece9a338a36e9d7a660ec4f0e37'\n",
    "start = 1262304000\n",
    "end = 1533081600"
   ]
  },
  {
   "cell_type": "code",
   "execution_count": 67,
   "metadata": {},
   "outputs": [],
   "source": [
    "response = requests.get(f'http://api.openweathermap.org/data/2.5/forecast?id={countryid}&APPID={apikey}').content.decode('utf-8')"
   ]
  },
  {
   "cell_type": "code",
   "execution_count": 68,
   "metadata": {},
   "outputs": [
    {
     "data": {
      "text/plain": [
       "'{\"cod\":\"400\",\"message\":\"NL is not a city ID\"}'"
      ]
     },
     "execution_count": 68,
     "metadata": {},
     "output_type": "execute_result"
    }
   ],
   "source": [
    "response"
   ]
  },
  {
   "cell_type": "code",
   "execution_count": 69,
   "metadata": {},
   "outputs": [],
   "source": [
    "data = json.loads(response)"
   ]
  },
  {
   "cell_type": "code",
   "execution_count": 29,
   "metadata": {},
   "outputs": [
    {
     "ename": "NameError",
     "evalue": "name 'data' is not defined",
     "output_type": "error",
     "traceback": [
      "\u001b[0;31m---------------------------------------------------------------------------\u001b[0m",
      "\u001b[0;31mNameError\u001b[0m                                 Traceback (most recent call last)",
      "\u001b[0;32m<ipython-input-29-c5d84736ba45>\u001b[0m in \u001b[0;36m<module>\u001b[0;34m()\u001b[0m\n\u001b[0;32m----> 1\u001b[0;31m \u001b[0mdata\u001b[0m\u001b[0;34m\u001b[0m\u001b[0m\n\u001b[0m",
      "\u001b[0;31mNameError\u001b[0m: name 'data' is not defined"
     ]
    }
   ],
   "source": [
    "data"
   ]
  },
  {
   "cell_type": "code",
   "execution_count": 30,
   "metadata": {},
   "outputs": [
    {
     "ename": "NameError",
     "evalue": "name 'data' is not defined",
     "output_type": "error",
     "traceback": [
      "\u001b[0;31m---------------------------------------------------------------------------\u001b[0m",
      "\u001b[0;31mNameError\u001b[0m                                 Traceback (most recent call last)",
      "\u001b[0;32m<ipython-input-30-49960272d0e2>\u001b[0m in \u001b[0;36m<module>\u001b[0;34m()\u001b[0m\n\u001b[0;32m----> 1\u001b[0;31m \u001b[0mweather\u001b[0m \u001b[0;34m=\u001b[0m \u001b[0mdata\u001b[0m\u001b[0;34m[\u001b[0m\u001b[0;34m'list'\u001b[0m\u001b[0;34m]\u001b[0m\u001b[0;34m\u001b[0m\u001b[0m\n\u001b[0m",
      "\u001b[0;31mNameError\u001b[0m: name 'data' is not defined"
     ]
    }
   ],
   "source": [
    "weather = data['list']"
   ]
  },
  {
   "cell_type": "code",
   "execution_count": 31,
   "metadata": {},
   "outputs": [
    {
     "ename": "NameError",
     "evalue": "name 'data' is not defined",
     "output_type": "error",
     "traceback": [
      "\u001b[0;31m---------------------------------------------------------------------------\u001b[0m",
      "\u001b[0;31mNameError\u001b[0m                                 Traceback (most recent call last)",
      "\u001b[0;32m<ipython-input-31-e00d24115e8e>\u001b[0m in \u001b[0;36m<module>\u001b[0;34m()\u001b[0m\n\u001b[1;32m      7\u001b[0m \u001b[0;34m\u001b[0m\u001b[0m\n\u001b[1;32m      8\u001b[0m \u001b[0;34m\u001b[0m\u001b[0m\n\u001b[0;32m----> 9\u001b[0;31m \u001b[0;32mfor\u001b[0m \u001b[0mentry\u001b[0m \u001b[0;32min\u001b[0m \u001b[0mdata\u001b[0m\u001b[0;34m[\u001b[0m\u001b[0;34m'list'\u001b[0m\u001b[0;34m]\u001b[0m\u001b[0;34m:\u001b[0m\u001b[0;34m\u001b[0m\u001b[0m\n\u001b[0m\u001b[1;32m     10\u001b[0m     \u001b[0mprint\u001b[0m\u001b[0;34m(\u001b[0m\u001b[0mentry\u001b[0m\u001b[0;34m)\u001b[0m\u001b[0;34m\u001b[0m\u001b[0m\n",
      "\u001b[0;31mNameError\u001b[0m: name 'data' is not defined"
     ]
    }
   ],
   "source": [
    "temp = list()\n",
    "temp_min = list()\n",
    "temp_max = list()\n",
    "pressure = list()\n",
    "sea_level = list()\n",
    "humidity = list()\n",
    "\n",
    "\n",
    "for entry in data['list']:\n",
    "    print(entry)"
   ]
  },
  {
   "cell_type": "code",
   "execution_count": null,
   "metadata": {},
   "outputs": [],
   "source": []
  },
  {
   "cell_type": "code",
   "execution_count": null,
   "metadata": {},
   "outputs": [],
   "source": []
  },
  {
   "cell_type": "code",
   "execution_count": null,
   "metadata": {},
   "outputs": [],
   "source": []
  }
 ],
 "metadata": {
  "kernelspec": {
   "display_name": "Python 3",
   "language": "python",
   "name": "python3"
  },
  "language_info": {
   "codemirror_mode": {
    "name": "ipython",
    "version": 3
   },
   "file_extension": ".py",
   "mimetype": "text/x-python",
   "name": "python",
   "nbconvert_exporter": "python",
   "pygments_lexer": "ipython3",
   "version": "3.6.5"
  }
 },
 "nbformat": 4,
 "nbformat_minor": 2
}
