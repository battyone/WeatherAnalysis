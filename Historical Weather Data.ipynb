{
 "cells": [
  {
   "cell_type": "markdown",
   "metadata": {},
   "source": [
    "<center><font color='#7a7773'><h1> Historical weather analyses Rotterdam</h1></font></center>"
   ]
  },
  {
   "cell_type": "markdown",
   "metadata": {},
   "source": [
    "<img src='clouds.svg' width=250> "
   ]
  },
  {
   "cell_type": "markdown",
   "metadata": {},
   "source": [
    "<h4> Import the packages that are needed in this project </h4>"
   ]
  },
  {
   "cell_type": "code",
   "execution_count": 2,
   "metadata": {},
   "outputs": [],
   "source": [
    "import requests\n",
    "import pandas as pd\n",
    "import json\n",
    "import time\n",
    "from datetime import datetime\n",
    "import os\n",
    "import matplotlib.pyplot as plt"
   ]
  },
  {
   "cell_type": "markdown",
   "metadata": {},
   "source": [
    "filter the files from the directory on _.json_ extention and put the filenames in a list "
   ]
  },
  {
   "cell_type": "code",
   "execution_count": 3,
   "metadata": {},
   "outputs": [],
   "source": [
    "files = list()\n",
    "\n",
    "for file in os.listdir():\n",
    "    if file.endswith('.json'):\n",
    "        files.append(file)\n",
    "                \n",
    "files = sorted(files, key=str.lower)"
   ]
  },
  {
   "cell_type": "markdown",
   "metadata": {},
   "source": [
    "import the two json files as _citylist_ and _weatherdata_"
   ]
  },
  {
   "cell_type": "code",
   "execution_count": 4,
   "metadata": {},
   "outputs": [],
   "source": [
    "with open(files[0], encoding='utf-8') as f:\n",
    "    citylist = json.load(f)\n",
    "    \n",
    "with open(files[1], encoding='utf-8') as f:\n",
    "    weatherdata = json.load(f)"
   ]
  },
  {
   "cell_type": "code",
   "execution_count": 6,
   "metadata": {},
   "outputs": [
    {
     "name": "stdout",
     "output_type": "stream",
     "text": [
      "weather has 41273 entrys\n",
      "citylist has 209579 entrys\n"
     ]
    }
   ],
   "source": [
    "print(f'weather has {len(weatherdata)} entrys')\n",
    "print(f'citylist has {len(citylist)} entrys')"
   ]
  },
  {
   "cell_type": "markdown",
   "metadata": {},
   "source": [
    "Find the cityid of **Rotterdam** and put the id and the name in variables"
   ]
  },
  {
   "cell_type": "code",
   "execution_count": 7,
   "metadata": {
    "scrolled": true
   },
   "outputs": [
    {
     "name": "stdout",
     "output_type": "stream",
     "text": [
      "{'id': 2747891, 'name': 'Rotterdam', 'country': 'NL', 'coord': {'lon': 4.47917, 'lat': 51.922501}}\n",
      "2747891 Rotterdam\n"
     ]
    }
   ],
   "source": [
    "for i in citylist:\n",
    "    if i['name'] == 'Rotterdam' and i['country'] == 'NL':\n",
    "        print(i)\n",
    "        print(i['id'], i['name'])\n",
    "        cityname = i['name']\n",
    "        cityid = i['id']"
   ]
  },
  {
   "cell_type": "markdown",
   "metadata": {},
   "source": [
    "Pars the weatherdata en convert it to a pandas dataframe"
   ]
  },
  {
   "cell_type": "code",
   "execution_count": 9,
   "metadata": {},
   "outputs": [],
   "source": [
    "temp = list()\n",
    "temp_min = list()\n",
    "temp_max = list()\n",
    "pressure = list()\n",
    "humidity = list()\n",
    "wind_speed = list()\n",
    "wind_deg = list()\n",
    "weather_id = list()\n",
    "weather_main = list()\n",
    "weather_descr = list()\n",
    "date = list()\n",
    "date_unix = list()\n",
    "\n",
    "\n",
    "for entry in weatherdata:\n",
    "    temp.append(entry['main']['temp'])\n",
    "    temp_min.append(entry['main']['temp_min'])\n",
    "    temp_max.append(entry['main']['temp_max'])\n",
    "    pressure.append(entry['main']['pressure'])\n",
    "    humidity.append(entry['main']['humidity'])\n",
    "    wind_speed.append(entry['wind']['speed'])\n",
    "    wind_deg.append(entry['wind']['deg'])\n",
    "    weather_id.append(entry['weather'][0]['id'])\n",
    "    weather_main.append(entry['weather'][0]['main'])\n",
    "    weather_descr.append(entry['weather'][0]['description'])\n",
    "    date.append(entry['dt_iso'])\n",
    "    date_unix.append(entry['dt'])"
   ]
  },
  {
   "cell_type": "markdown",
   "metadata": {},
   "source": [
    "define the dataframes columns"
   ]
  },
  {
   "cell_type": "code",
   "execution_count": 10,
   "metadata": {},
   "outputs": [],
   "source": [
    "weatherdata_df = pd.DataFrame()\n",
    "\n",
    "weatherdata_df['temperature_celsius'] = temp\n",
    "weatherdata_df['temperature_min_celsius'] = temp_min\n",
    "weatherdata_df['temperature_max_celsius'] = temp_max\n",
    "weatherdata_df['pressure_hpa'] = pressure\n",
    "weatherdata_df['humidity_%'] = humidity\n",
    "weatherdata_df['wind_speed_m/s'] = wind_speed\n",
    "weatherdata_df['wind_degrees'] = wind_deg\n",
    "weatherdata_df['weather_id'] = weather_id\n",
    "weatherdata_df['weather_main'] = weather_main\n",
    "weatherdata_df['weather_descr'] = weather_descr\n",
    "weatherdata_df['date_UTC'] = date\n",
    "weatherdata_df['date_unix'] = date_unix\n"
   ]
  },
  {
   "cell_type": "markdown",
   "metadata": {},
   "source": [
    "function convert kelvin to celsius degrees"
   ]
  },
  {
   "cell_type": "code",
   "execution_count": 12,
   "metadata": {},
   "outputs": [],
   "source": [
    "def kelv_to_cels(df, column):\n",
    "    df[column] = df[column] - 273.15    "
   ]
  },
  {
   "cell_type": "code",
   "execution_count": 13,
   "metadata": {},
   "outputs": [],
   "source": [
    "kelv_to_cels(weatherdata_df, 'temperature_celsius')\n",
    "kelv_to_cels(weatherdata_df, 'temperature_min_celsius')\n",
    "kelv_to_cels(weatherdata_df, 'temperature_max_celsius')"
   ]
  },
  {
   "cell_type": "code",
   "execution_count": 14,
   "metadata": {
    "scrolled": true
   },
   "outputs": [
    {
     "data": {
      "text/plain": [
       "temperature_celsius        float64\n",
       "temperature_min_celsius    float64\n",
       "temperature_max_celsius    float64\n",
       "pressure_hpa                 int64\n",
       "humidity_%                   int64\n",
       "wind_speed_m/s               int64\n",
       "wind_degrees                 int64\n",
       "weather_id                   int64\n",
       "weather_main                object\n",
       "weather_descr               object\n",
       "date_UTC                    object\n",
       "date_unix                    int64\n",
       "dtype: object"
      ]
     },
     "execution_count": 14,
     "metadata": {},
     "output_type": "execute_result"
    }
   ],
   "source": [
    "weatherdata_df.dtypes"
   ]
  },
  {
   "cell_type": "code",
   "execution_count": 16,
   "metadata": {},
   "outputs": [],
   "source": [
    "weatherdata_df['date_unix'] = pd.to_datetime(weatherdata_df['date_unix'], unit='s')\n",
    "weatherdata_df['date_UTC'] = weatherdata_df['date_UTC'].map(lambda x: x.replace('UTC', ''))\n",
    "weatherdata_df['date_UTC'] = weatherdata_df['date_UTC'].map(lambda x: x.replace('+', ''))\n",
    "weatherdata_df['date_UTC'] = weatherdata_df['date_UTC'].map(lambda x: x[:-5])"
   ]
  },
  {
   "cell_type": "code",
   "execution_count": 17,
   "metadata": {
    "scrolled": true
   },
   "outputs": [],
   "source": [
    "weatherdata_df['date_UTC'] = pd.to_datetime(weatherdata_df['date_UTC'], format='%Y-%m-%d %H:%M:%S')"
   ]
  },
  {
   "cell_type": "code",
   "execution_count": 18,
   "metadata": {},
   "outputs": [
    {
     "data": {
      "text/html": [
       "<div>\n",
       "<style scoped>\n",
       "    .dataframe tbody tr th:only-of-type {\n",
       "        vertical-align: middle;\n",
       "    }\n",
       "\n",
       "    .dataframe tbody tr th {\n",
       "        vertical-align: top;\n",
       "    }\n",
       "\n",
       "    .dataframe thead th {\n",
       "        text-align: right;\n",
       "    }\n",
       "</style>\n",
       "<table border=\"1\" class=\"dataframe\">\n",
       "  <thead>\n",
       "    <tr style=\"text-align: right;\">\n",
       "      <th></th>\n",
       "      <th>temperature_celsius</th>\n",
       "      <th>temperature_min_celsius</th>\n",
       "      <th>temperature_max_celsius</th>\n",
       "      <th>pressure_hpa</th>\n",
       "      <th>humidity_%</th>\n",
       "      <th>wind_speed_m/s</th>\n",
       "      <th>wind_degrees</th>\n",
       "      <th>weather_id</th>\n",
       "      <th>weather_main</th>\n",
       "      <th>weather_descr</th>\n",
       "      <th>date_UTC</th>\n",
       "      <th>date_unix</th>\n",
       "    </tr>\n",
       "  </thead>\n",
       "  <tbody>\n",
       "    <tr>\n",
       "      <th>0</th>\n",
       "      <td>15.30</td>\n",
       "      <td>14.00</td>\n",
       "      <td>16.67</td>\n",
       "      <td>1020</td>\n",
       "      <td>91</td>\n",
       "      <td>2</td>\n",
       "      <td>208</td>\n",
       "      <td>701</td>\n",
       "      <td>Mist</td>\n",
       "      <td>mist</td>\n",
       "      <td>2013-08-31 00:00:00</td>\n",
       "      <td>2013-08-31 00:00:00</td>\n",
       "    </tr>\n",
       "    <tr>\n",
       "      <th>1</th>\n",
       "      <td>15.54</td>\n",
       "      <td>15.00</td>\n",
       "      <td>16.11</td>\n",
       "      <td>1020</td>\n",
       "      <td>93</td>\n",
       "      <td>2</td>\n",
       "      <td>208</td>\n",
       "      <td>701</td>\n",
       "      <td>Mist</td>\n",
       "      <td>mist</td>\n",
       "      <td>2013-08-31 01:00:00</td>\n",
       "      <td>2013-08-31 01:00:00</td>\n",
       "    </tr>\n",
       "    <tr>\n",
       "      <th>2</th>\n",
       "      <td>16.30</td>\n",
       "      <td>15.56</td>\n",
       "      <td>17.00</td>\n",
       "      <td>1019</td>\n",
       "      <td>95</td>\n",
       "      <td>3</td>\n",
       "      <td>218</td>\n",
       "      <td>800</td>\n",
       "      <td>Clear</td>\n",
       "      <td>Sky is Clear</td>\n",
       "      <td>2013-08-31 02:00:00</td>\n",
       "      <td>2013-08-31 02:00:00</td>\n",
       "    </tr>\n",
       "    <tr>\n",
       "      <th>3</th>\n",
       "      <td>15.27</td>\n",
       "      <td>15.00</td>\n",
       "      <td>15.56</td>\n",
       "      <td>1019</td>\n",
       "      <td>99</td>\n",
       "      <td>3</td>\n",
       "      <td>218</td>\n",
       "      <td>701</td>\n",
       "      <td>Mist</td>\n",
       "      <td>mist</td>\n",
       "      <td>2013-08-31 03:00:00</td>\n",
       "      <td>2013-08-31 03:00:00</td>\n",
       "    </tr>\n",
       "    <tr>\n",
       "      <th>4</th>\n",
       "      <td>14.73</td>\n",
       "      <td>14.44</td>\n",
       "      <td>15.00</td>\n",
       "      <td>1019</td>\n",
       "      <td>99</td>\n",
       "      <td>3</td>\n",
       "      <td>218</td>\n",
       "      <td>701</td>\n",
       "      <td>Mist</td>\n",
       "      <td>mist</td>\n",
       "      <td>2013-08-31 04:00:00</td>\n",
       "      <td>2013-08-31 04:00:00</td>\n",
       "    </tr>\n",
       "  </tbody>\n",
       "</table>\n",
       "</div>"
      ],
      "text/plain": [
       "   temperature_celsius  temperature_min_celsius  temperature_max_celsius  \\\n",
       "0                15.30                    14.00                    16.67   \n",
       "1                15.54                    15.00                    16.11   \n",
       "2                16.30                    15.56                    17.00   \n",
       "3                15.27                    15.00                    15.56   \n",
       "4                14.73                    14.44                    15.00   \n",
       "\n",
       "   pressure_hpa  humidity_%  wind_speed_m/s  wind_degrees  weather_id  \\\n",
       "0          1020          91               2           208         701   \n",
       "1          1020          93               2           208         701   \n",
       "2          1019          95               3           218         800   \n",
       "3          1019          99               3           218         701   \n",
       "4          1019          99               3           218         701   \n",
       "\n",
       "  weather_main weather_descr            date_UTC           date_unix  \n",
       "0         Mist          mist 2013-08-31 00:00:00 2013-08-31 00:00:00  \n",
       "1         Mist          mist 2013-08-31 01:00:00 2013-08-31 01:00:00  \n",
       "2        Clear  Sky is Clear 2013-08-31 02:00:00 2013-08-31 02:00:00  \n",
       "3         Mist          mist 2013-08-31 03:00:00 2013-08-31 03:00:00  \n",
       "4         Mist          mist 2013-08-31 04:00:00 2013-08-31 04:00:00  "
      ]
     },
     "execution_count": 18,
     "metadata": {},
     "output_type": "execute_result"
    }
   ],
   "source": [
    "weatherdata_df.head()"
   ]
  },
  {
   "cell_type": "code",
   "execution_count": 19,
   "metadata": {},
   "outputs": [
    {
     "data": {
      "text/plain": [
       "temperature_celsius               float64\n",
       "temperature_min_celsius           float64\n",
       "temperature_max_celsius           float64\n",
       "pressure_hpa                        int64\n",
       "humidity_%                          int64\n",
       "wind_speed_m/s                      int64\n",
       "wind_degrees                        int64\n",
       "weather_id                          int64\n",
       "weather_main                       object\n",
       "weather_descr                      object\n",
       "date_UTC                   datetime64[ns]\n",
       "date_unix                  datetime64[ns]\n",
       "dtype: object"
      ]
     },
     "execution_count": 19,
     "metadata": {},
     "output_type": "execute_result"
    }
   ],
   "source": [
    "weatherdata_df.dtypes"
   ]
  },
  {
   "cell_type": "code",
   "execution_count": 20,
   "metadata": {
    "scrolled": false
   },
   "outputs": [
    {
     "data": {
      "text/html": [
       "<div>\n",
       "<style scoped>\n",
       "    .dataframe tbody tr th:only-of-type {\n",
       "        vertical-align: middle;\n",
       "    }\n",
       "\n",
       "    .dataframe tbody tr th {\n",
       "        vertical-align: top;\n",
       "    }\n",
       "\n",
       "    .dataframe thead th {\n",
       "        text-align: right;\n",
       "    }\n",
       "</style>\n",
       "<table border=\"1\" class=\"dataframe\">\n",
       "  <thead>\n",
       "    <tr style=\"text-align: right;\">\n",
       "      <th></th>\n",
       "      <th>temperature_celsius</th>\n",
       "      <th>temperature_min_celsius</th>\n",
       "      <th>temperature_max_celsius</th>\n",
       "      <th>pressure_hpa</th>\n",
       "      <th>humidity_%</th>\n",
       "      <th>wind_speed_m/s</th>\n",
       "      <th>wind_degrees</th>\n",
       "      <th>weather_id</th>\n",
       "    </tr>\n",
       "  </thead>\n",
       "  <tbody>\n",
       "    <tr>\n",
       "      <th>count</th>\n",
       "      <td>41273.00</td>\n",
       "      <td>41273.00</td>\n",
       "      <td>41273.00</td>\n",
       "      <td>41273.00</td>\n",
       "      <td>41273.00</td>\n",
       "      <td>41273.00</td>\n",
       "      <td>41273.00</td>\n",
       "      <td>41273.00</td>\n",
       "    </tr>\n",
       "    <tr>\n",
       "      <th>mean</th>\n",
       "      <td>11.97</td>\n",
       "      <td>10.65</td>\n",
       "      <td>13.44</td>\n",
       "      <td>1015.71</td>\n",
       "      <td>81.41</td>\n",
       "      <td>3.94</td>\n",
       "      <td>189.44</td>\n",
       "      <td>691.84</td>\n",
       "    </tr>\n",
       "    <tr>\n",
       "      <th>std</th>\n",
       "      <td>6.48</td>\n",
       "      <td>6.19</td>\n",
       "      <td>6.96</td>\n",
       "      <td>10.45</td>\n",
       "      <td>15.63</td>\n",
       "      <td>2.55</td>\n",
       "      <td>96.78</td>\n",
       "      <td>150.33</td>\n",
       "    </tr>\n",
       "    <tr>\n",
       "      <th>min</th>\n",
       "      <td>-7.39</td>\n",
       "      <td>-10.00</td>\n",
       "      <td>-7.00</td>\n",
       "      <td>968.00</td>\n",
       "      <td>0.00</td>\n",
       "      <td>0.00</td>\n",
       "      <td>0.00</td>\n",
       "      <td>200.00</td>\n",
       "    </tr>\n",
       "    <tr>\n",
       "      <th>25%</th>\n",
       "      <td>7.00</td>\n",
       "      <td>6.00</td>\n",
       "      <td>8.00</td>\n",
       "      <td>1010.00</td>\n",
       "      <td>72.00</td>\n",
       "      <td>2.00</td>\n",
       "      <td>110.00</td>\n",
       "      <td>521.00</td>\n",
       "    </tr>\n",
       "    <tr>\n",
       "      <th>50%</th>\n",
       "      <td>12.21</td>\n",
       "      <td>11.00</td>\n",
       "      <td>13.36</td>\n",
       "      <td>1016.00</td>\n",
       "      <td>86.00</td>\n",
       "      <td>4.00</td>\n",
       "      <td>203.00</td>\n",
       "      <td>800.00</td>\n",
       "    </tr>\n",
       "    <tr>\n",
       "      <th>75%</th>\n",
       "      <td>16.61</td>\n",
       "      <td>15.00</td>\n",
       "      <td>18.33</td>\n",
       "      <td>1022.00</td>\n",
       "      <td>93.00</td>\n",
       "      <td>5.00</td>\n",
       "      <td>260.00</td>\n",
       "      <td>802.00</td>\n",
       "    </tr>\n",
       "    <tr>\n",
       "      <th>max</th>\n",
       "      <td>34.58</td>\n",
       "      <td>33.33</td>\n",
       "      <td>38.33</td>\n",
       "      <td>1052.00</td>\n",
       "      <td>100.00</td>\n",
       "      <td>57.00</td>\n",
       "      <td>360.00</td>\n",
       "      <td>804.00</td>\n",
       "    </tr>\n",
       "  </tbody>\n",
       "</table>\n",
       "</div>"
      ],
      "text/plain": [
       "       temperature_celsius  temperature_min_celsius  temperature_max_celsius  \\\n",
       "count             41273.00                 41273.00                 41273.00   \n",
       "mean                 11.97                    10.65                    13.44   \n",
       "std                   6.48                     6.19                     6.96   \n",
       "min                  -7.39                   -10.00                    -7.00   \n",
       "25%                   7.00                     6.00                     8.00   \n",
       "50%                  12.21                    11.00                    13.36   \n",
       "75%                  16.61                    15.00                    18.33   \n",
       "max                  34.58                    33.33                    38.33   \n",
       "\n",
       "       pressure_hpa  humidity_%  wind_speed_m/s  wind_degrees  weather_id  \n",
       "count      41273.00    41273.00        41273.00      41273.00    41273.00  \n",
       "mean        1015.71       81.41            3.94        189.44      691.84  \n",
       "std           10.45       15.63            2.55         96.78      150.33  \n",
       "min          968.00        0.00            0.00          0.00      200.00  \n",
       "25%         1010.00       72.00            2.00        110.00      521.00  \n",
       "50%         1016.00       86.00            4.00        203.00      800.00  \n",
       "75%         1022.00       93.00            5.00        260.00      802.00  \n",
       "max         1052.00      100.00           57.00        360.00      804.00  "
      ]
     },
     "execution_count": 20,
     "metadata": {},
     "output_type": "execute_result"
    }
   ],
   "source": [
    "df_described = round(weatherdata_df.describe(), 2)\n",
    "df_described"
   ]
  },
  {
   "cell_type": "code",
   "execution_count": 21,
   "metadata": {},
   "outputs": [],
   "source": [
    "two_fourteen = weatherdata_df[weatherdata_df['date_UTC'].dt.year == 2014]\n",
    "two_fifteen  = weatherdata_df[weatherdata_df['date_UTC'].dt.year == 2015]\n",
    "two_sixteen  = weatherdata_df[weatherdata_df['date_UTC'].dt.year == 2016]\n",
    "two_seventeen  = weatherdata_df[weatherdata_df['date_UTC'].dt.year == 2017]\n",
    "two_eighteen  = weatherdata_df[weatherdata_df['date_UTC'].dt.year == 2018]"
   ]
  },
  {
   "cell_type": "code",
   "execution_count": 22,
   "metadata": {
    "scrolled": true
   },
   "outputs": [
    {
     "data": {
      "image/png": "[encoded data removed]",
      "text/plain": [
       "<Figure size 432x288 with 1 Axes>"
      ]
     },
     "metadata": {},
     "output_type": "display_data"
    }
   ],
   "source": [
    "plt.plot(two_fourteen['date_UTC'], two_fourteen['temperature_celsius'])\n",
    "plt.show()"
   ]
  },
  {
   "cell_type": "code",
   "execution_count": 23,
   "metadata": {},
   "outputs": [
    {
     "data": {
      "image/png": "[encoded data removed]",
      "text/plain": [
       "<Figure size 432x288 with 1 Axes>"
      ]
     },
     "metadata": {},
     "output_type": "display_data"
    }
   ],
   "source": [
    "plt.plot(two_fifteen['date_UTC'], two_fifteen['temperature_celsius'])\n",
    "plt.show()"
   ]
  }
 ],
 "metadata": {
  "kernelspec": {
   "display_name": "Python 3",
   "language": "python",
   "name": "python3"
  },
  "language_info": {
   "codemirror_mode": {
    "name": "ipython",
    "version": 3
   },
   "file_extension": ".py",
   "mimetype": "text/x-python",
   "name": "python",
   "nbconvert_exporter": "python",
   "pygments_lexer": "ipython3",
   "version": "3.6.6"
  }
 },
 "nbformat": 4,
 "nbformat_minor": 2
}
